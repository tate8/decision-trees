{
 "cells": [
  {
   "cell_type": "markdown",
   "metadata": {},
   "source": [
    "**Decision Trees and Random Forests**<br><br>\n",
    "**Overview**\n",
    "1.  **Decision Tree**\n",
    "   *  Get data\n",
    "   *  Train and test sets\n",
    "   *  Grid search with cross-validation to find good hyperparameters\n",
    "   *  Train model on full train set and measure performance on test set\n",
    "2.  **Random Forest**\n",
    "   *  Generate 1,000 subsets of the training set, each with 100 random instances\n",
    "   *  Train a Decision Tree on each subset with the best found hyperparameters\n",
    "   *  Evaluate the 1,000 Decision Trees on test set\n",
    "   *  For each test set instance, generate the prediction of the 1,000 Trees, keep the most frequent prediction (majority vote)\n",
    "   *  Evaluate predictions on test set"
   ]
  },
  {
   "cell_type": "code",
   "execution_count": 231,
   "metadata": {},
   "outputs": [
    {
     "name": "stdout",
     "output_type": "stream",
     "text": [
      "Nothing done.\n"
     ]
    }
   ],
   "source": [
    "from sklearn.datasets import make_moons\n",
    "from sklearn.model_selection import train_test_split, GridSearchCV, ShuffleSplit\n",
    "from sklearn.tree import DecisionTreeClassifier\n",
    "from sklearn.metrics import accuracy_score\n",
    "from sklearn.base import clone\n",
    "\n",
    "import numpy as np\n",
    "\n",
    "from scipy import stats\n",
    "\n",
    "%reset"
   ]
  },
  {
   "cell_type": "markdown",
   "metadata": {},
   "source": [
    "# Decision Tree"
   ]
  },
  {
   "cell_type": "markdown",
   "metadata": {},
   "source": [
    "**Step 1: Get data**"
   ]
  },
  {
   "cell_type": "code",
   "execution_count": 232,
   "metadata": {},
   "outputs": [],
   "source": [
    "X, y = make_moons(n_samples=10000, noise=0.4)"
   ]
  },
  {
   "cell_type": "markdown",
   "metadata": {},
   "source": [
    "**Step 2: Train and Test sets**"
   ]
  },
  {
   "cell_type": "code",
   "execution_count": 233,
   "metadata": {},
   "outputs": [],
   "source": [
    "X_train, X_test, y_train, y_test = train_test_split(X, y, test_size=0.2, random_state=42)"
   ]
  },
  {
   "cell_type": "markdown",
   "metadata": {},
   "source": [
    "**Step 3: Grid search**"
   ]
  },
  {
   "cell_type": "code",
   "execution_count": 234,
   "metadata": {},
   "outputs": [
    {
     "name": "stdout",
     "output_type": "stream",
     "text": [
      "DecisionTreeClassifier(max_depth=10, max_leaf_nodes=25, random_state=42)\n"
     ]
    }
   ],
   "source": [
    "parameters =    {'max_leaf_nodes': list(range(2, 100)),\n",
    "                'min_samples_split': [2, 3, 4],\n",
    "                'max_depth': [2, 3, 4, 5, 10, 12, 15, 30]\n",
    "}\n",
    "\n",
    "tree = DecisionTreeClassifier(random_state=42)\n",
    "\n",
    "grid_search = GridSearchCV(tree, parameters, cv=3)\n",
    "grid_search.fit(X_train, y_train)\n",
    "\n",
    "print(grid_search.best_estimator_)"
   ]
  },
  {
   "cell_type": "markdown",
   "metadata": {},
   "source": [
    "**Step 4: Train model with best hyperparameters**"
   ]
  },
  {
   "cell_type": "code",
   "execution_count": 235,
   "metadata": {},
   "outputs": [
    {
     "name": "stdout",
     "output_type": "stream",
     "text": [
      "Predicted:\t[1 0 1 1 0 1 1 1 1 1]\n",
      "Actual:\t\t[1 0 1 1 0 1 1 1 1 1]\n",
      "Accuracy score: 87.0%\n"
     ]
    }
   ],
   "source": [
    "tree = grid_search.best_estimator_\n",
    "\n",
    "tree.fit(X_train, y_train)\n",
    "\n",
    "# some sample predictions\n",
    "print(f'Predicted:\\t{tree.predict(X_test[:10])}')\n",
    "print(f'Actual:\\t\\t{y_test[:10]}')\n",
    "\n",
    "predictions = tree.predict(X_test)\n",
    "score = accuracy_score(y_test, predictions)\n",
    "print(f'Accuracy score: {score*100}%')"
   ]
  },
  {
   "cell_type": "markdown",
   "metadata": {},
   "source": [
    "# Random Forest"
   ]
  },
  {
   "cell_type": "markdown",
   "metadata": {},
   "source": [
    "**Step 5: Generate subsets**"
   ]
  },
  {
   "cell_type": "code",
   "execution_count": 236,
   "metadata": {},
   "outputs": [],
   "source": [
    "num_trees = 1000\n",
    "num_instances = 100\n",
    "\n",
    "mini_sets = []\n",
    "\n",
    "rs = ShuffleSplit(n_splits=num_trees, test_size=len(X_train) - num_instances, random_state=42)\n",
    "\n",
    "for train_index, test_index in rs.split(X_train):\n",
    "    mini_X = X_train[train_index]\n",
    "    mini_y = y_train[train_index]\n",
    "    mini_sets.append((mini_X, mini_y))\n"
   ]
  },
  {
   "cell_type": "markdown",
   "metadata": {},
   "source": [
    "**Step 6: Train best Decision Tree on each subset**"
   ]
  },
  {
   "cell_type": "code",
   "execution_count": 237,
   "metadata": {},
   "outputs": [
    {
     "name": "stdout",
     "output_type": "stream",
     "text": [
      "Forest accuracy scores: 79.7495%\n"
     ]
    }
   ],
   "source": [
    "forest = [clone(grid_search.best_estimator_) for _ in range(num_trees)]\n",
    "\n",
    "accuracy_scores = []\n",
    "\n",
    "for tree, (mini_X, mini_y) in zip(forest, mini_sets):\n",
    "    tree.fit(mini_X, mini_y)\n",
    "    predictions = tree.predict(X_test)\n",
    "    accuracy_scores.append(accuracy_score(y_test, predictions))\n",
    "\n",
    "print(f'Forest accuracy scores: {np.mean(accuracy_scores)*100}%')\n"
   ]
  },
  {
   "cell_type": "markdown",
   "metadata": {},
   "source": [
    "**Setp 7: Majority vote**"
   ]
  },
  {
   "cell_type": "code",
   "execution_count": 238,
   "metadata": {},
   "outputs": [
    {
     "name": "stdout",
     "output_type": "stream",
     "text": [
      "[[1. 0. 1. ... 0. 0. 0.]]\n",
      "[[852 984 838 ... 902 946 896]]\n"
     ]
    }
   ],
   "source": [
    "Y_pred = np.zeros((num_trees, len(X_test)))\n",
    "\n",
    "for idx, tree in enumerate(forest):\n",
    "    Y_pred[idx] = tree.predict(X_test)\n",
    "\n",
    "majority_votes, count = stats.mode(Y_pred, axis=0)\n",
    "print(majority_votes)\n",
    "print(count)\n"
   ]
  },
  {
   "cell_type": "code",
   "execution_count": 239,
   "metadata": {},
   "outputs": [
    {
     "name": "stdout",
     "output_type": "stream",
     "text": [
      "Forest accuracy with majority vote: 87.75%\n"
     ]
    }
   ],
   "source": [
    "forest_accuracy = accuracy_score(y_test, majority_votes.reshape([-1]))\n",
    "\n",
    "print(f'Forest accuracy with majority vote: {forest_accuracy*100}%')"
   ]
  },
  {
   "cell_type": "code",
   "execution_count": null,
   "metadata": {},
   "outputs": [],
   "source": []
  }
 ],
 "metadata": {
  "interpreter": {
   "hash": "aee8b7b246df8f9039afb4144a1f6fd8d2ca17a180786b69acc140d282b71a49"
  },
  "kernelspec": {
   "display_name": "Python 3.10.1 64-bit",
   "language": "python",
   "name": "python3"
  },
  "language_info": {
   "codemirror_mode": {
    "name": "ipython",
    "version": 3
   },
   "file_extension": ".py",
   "mimetype": "text/x-python",
   "name": "python",
   "nbconvert_exporter": "python",
   "pygments_lexer": "ipython3",
   "version": "3.10.1"
  },
  "orig_nbformat": 4
 },
 "nbformat": 4,
 "nbformat_minor": 2
}
